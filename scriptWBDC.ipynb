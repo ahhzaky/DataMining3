{
 "metadata": {
  "language_info": {
   "codemirror_mode": {
    "name": "ipython",
    "version": 3
   },
   "file_extension": ".py",
   "mimetype": "text/x-python",
   "name": "python",
   "nbconvert_exporter": "python",
   "pygments_lexer": "ipython3",
   "version": "3.8.3-final"
  },
  "orig_nbformat": 2,
  "kernelspec": {
   "name": "Python 3.8.3 32-bit",
   "display_name": "Python 3.8.3 32-bit",
   "metadata": {
    "interpreter": {
     "hash": "ca585555a2867b459a38eaf8b2b47956aef7a6f770e52f1f5dfa1f8f05e57688"
    }
   }
  }
 },
 "nbformat": 4,
 "nbformat_minor": 2,
 "cells": [
  {
   "cell_type": "code",
   "execution_count": 1,
   "metadata": {},
   "outputs": [],
   "source": [
    "import pandas as pd"
   ]
  },
  {
   "source": [
    "df = pd.read_csv(\"./wdbc.data\")\n",
    "\n",
    "df.columns = ['ID','Diagnosis','Mean-radius','Mean-texture','Mean-perimeter','Mean-area','Mean-smoothness','Mean-compactness','Mean-concavity','Mean-concavePoints','Mean-symmetry','Mean-fractalDimension','SE-radius','SE-texture','SE-perimeter','SE-area','SE-smoothness','SE-compactness','SE-concavity ','SE-concavePoints','SE-symmetry','SE-fractalDimension','Worth-radius','Worth-texture','Worth-perimeter','Worth-area','Worth-smoothness','Worth-compactness','Worth-concavity','Worth-concavePoints','Worth-symmetry ','Worth-fractalDimension']\n",
    "\n",
    "df.head()"
   ],
   "cell_type": "code",
   "metadata": {},
   "execution_count": 2,
   "outputs": [
    {
     "output_type": "execute_result",
     "data": {
      "text/plain": [
       "         ID Diagnosis  Mean-radius  Mean-texture  Mean-perimeter  Mean-area  \\\n",
       "0    842517         M        20.57         17.77          132.90     1326.0   \n",
       "1  84300903         M        19.69         21.25          130.00     1203.0   \n",
       "2  84348301         M        11.42         20.38           77.58      386.1   \n",
       "3  84358402         M        20.29         14.34          135.10     1297.0   \n",
       "4    843786         M        12.45         15.70           82.57      477.1   \n",
       "\n",
       "   Mean-smoothness  Mean-compactness  Mean-concavity  Mean-concavePoints  ...  \\\n",
       "0          0.08474           0.07864          0.0869             0.07017  ...   \n",
       "1          0.10960           0.15990          0.1974             0.12790  ...   \n",
       "2          0.14250           0.28390          0.2414             0.10520  ...   \n",
       "3          0.10030           0.13280          0.1980             0.10430  ...   \n",
       "4          0.12780           0.17000          0.1578             0.08089  ...   \n",
       "\n",
       "   Worth-radius  Worth-texture  Worth-perimeter  Worth-area  Worth-smoothness  \\\n",
       "0         24.99          23.41           158.80      1956.0            0.1238   \n",
       "1         23.57          25.53           152.50      1709.0            0.1444   \n",
       "2         14.91          26.50            98.87       567.7            0.2098   \n",
       "3         22.54          16.67           152.20      1575.0            0.1374   \n",
       "4         15.47          23.75           103.40       741.6            0.1791   \n",
       "\n",
       "   Worth-compactness  Worth-concavity  Worth-concavePoints  Worth-symmetry   \\\n",
       "0             0.1866           0.2416               0.1860           0.2750   \n",
       "1             0.4245           0.4504               0.2430           0.3613   \n",
       "2             0.8663           0.6869               0.2575           0.6638   \n",
       "3             0.2050           0.4000               0.1625           0.2364   \n",
       "4             0.5249           0.5355               0.1741           0.3985   \n",
       "\n",
       "   Worth-fractalDimension  \n",
       "0                 0.08902  \n",
       "1                 0.08758  \n",
       "2                 0.17300  \n",
       "3                 0.07678  \n",
       "4                 0.12440  \n",
       "\n",
       "[5 rows x 32 columns]"
      ],
      "text/html": "<div>\n<style scoped>\n    .dataframe tbody tr th:only-of-type {\n        vertical-align: middle;\n    }\n\n    .dataframe tbody tr th {\n        vertical-align: top;\n    }\n\n    .dataframe thead th {\n        text-align: right;\n    }\n</style>\n<table border=\"1\" class=\"dataframe\">\n  <thead>\n    <tr style=\"text-align: right;\">\n      <th></th>\n      <th>ID</th>\n      <th>Diagnosis</th>\n      <th>Mean-radius</th>\n      <th>Mean-texture</th>\n      <th>Mean-perimeter</th>\n      <th>Mean-area</th>\n      <th>Mean-smoothness</th>\n      <th>Mean-compactness</th>\n      <th>Mean-concavity</th>\n      <th>Mean-concavePoints</th>\n      <th>...</th>\n      <th>Worth-radius</th>\n      <th>Worth-texture</th>\n      <th>Worth-perimeter</th>\n      <th>Worth-area</th>\n      <th>Worth-smoothness</th>\n      <th>Worth-compactness</th>\n      <th>Worth-concavity</th>\n      <th>Worth-concavePoints</th>\n      <th>Worth-symmetry</th>\n      <th>Worth-fractalDimension</th>\n    </tr>\n  </thead>\n  <tbody>\n    <tr>\n      <th>0</th>\n      <td>842517</td>\n      <td>M</td>\n      <td>20.57</td>\n      <td>17.77</td>\n      <td>132.90</td>\n      <td>1326.0</td>\n      <td>0.08474</td>\n      <td>0.07864</td>\n      <td>0.0869</td>\n      <td>0.07017</td>\n      <td>...</td>\n      <td>24.99</td>\n      <td>23.41</td>\n      <td>158.80</td>\n      <td>1956.0</td>\n      <td>0.1238</td>\n      <td>0.1866</td>\n      <td>0.2416</td>\n      <td>0.1860</td>\n      <td>0.2750</td>\n      <td>0.08902</td>\n    </tr>\n    <tr>\n      <th>1</th>\n      <td>84300903</td>\n      <td>M</td>\n      <td>19.69</td>\n      <td>21.25</td>\n      <td>130.00</td>\n      <td>1203.0</td>\n      <td>0.10960</td>\n      <td>0.15990</td>\n      <td>0.1974</td>\n      <td>0.12790</td>\n      <td>...</td>\n      <td>23.57</td>\n      <td>25.53</td>\n      <td>152.50</td>\n      <td>1709.0</td>\n      <td>0.1444</td>\n      <td>0.4245</td>\n      <td>0.4504</td>\n      <td>0.2430</td>\n      <td>0.3613</td>\n      <td>0.08758</td>\n    </tr>\n    <tr>\n      <th>2</th>\n      <td>84348301</td>\n      <td>M</td>\n      <td>11.42</td>\n      <td>20.38</td>\n      <td>77.58</td>\n      <td>386.1</td>\n      <td>0.14250</td>\n      <td>0.28390</td>\n      <td>0.2414</td>\n      <td>0.10520</td>\n      <td>...</td>\n      <td>14.91</td>\n      <td>26.50</td>\n      <td>98.87</td>\n      <td>567.7</td>\n      <td>0.2098</td>\n      <td>0.8663</td>\n      <td>0.6869</td>\n      <td>0.2575</td>\n      <td>0.6638</td>\n      <td>0.17300</td>\n    </tr>\n    <tr>\n      <th>3</th>\n      <td>84358402</td>\n      <td>M</td>\n      <td>20.29</td>\n      <td>14.34</td>\n      <td>135.10</td>\n      <td>1297.0</td>\n      <td>0.10030</td>\n      <td>0.13280</td>\n      <td>0.1980</td>\n      <td>0.10430</td>\n      <td>...</td>\n      <td>22.54</td>\n      <td>16.67</td>\n      <td>152.20</td>\n      <td>1575.0</td>\n      <td>0.1374</td>\n      <td>0.2050</td>\n      <td>0.4000</td>\n      <td>0.1625</td>\n      <td>0.2364</td>\n      <td>0.07678</td>\n    </tr>\n    <tr>\n      <th>4</th>\n      <td>843786</td>\n      <td>M</td>\n      <td>12.45</td>\n      <td>15.70</td>\n      <td>82.57</td>\n      <td>477.1</td>\n      <td>0.12780</td>\n      <td>0.17000</td>\n      <td>0.1578</td>\n      <td>0.08089</td>\n      <td>...</td>\n      <td>15.47</td>\n      <td>23.75</td>\n      <td>103.40</td>\n      <td>741.6</td>\n      <td>0.1791</td>\n      <td>0.5249</td>\n      <td>0.5355</td>\n      <td>0.1741</td>\n      <td>0.3985</td>\n      <td>0.12440</td>\n    </tr>\n  </tbody>\n</table>\n<p>5 rows × 32 columns</p>\n</div>"
     },
     "metadata": {},
     "execution_count": 2
    }
   ]
  },
  {
   "cell_type": "code",
   "execution_count": 3,
   "metadata": {},
   "outputs": [
    {
     "output_type": "execute_result",
     "data": {
      "text/plain": [
       "    Diagnosis  Mean-radius  Mean-texture  Mean-perimeter  Mean-area  \\\n",
       "0           M        20.57         17.77          132.90     1326.0   \n",
       "1           M        19.69         21.25          130.00     1203.0   \n",
       "2           M        11.42         20.38           77.58      386.1   \n",
       "3           M        20.29         14.34          135.10     1297.0   \n",
       "4           M        12.45         15.70           82.57      477.1   \n",
       "..        ...          ...           ...             ...        ...   \n",
       "563         M        21.56         22.39          142.00     1479.0   \n",
       "564         M        20.13         28.25          131.20     1261.0   \n",
       "565         M        16.60         28.08          108.30      858.1   \n",
       "566         M        20.60         29.33          140.10     1265.0   \n",
       "567         B         7.76         24.54           47.92      181.0   \n",
       "\n",
       "     Mean-smoothness  Mean-compactness  Mean-concavity  Mean-concavePoints  \\\n",
       "0            0.08474           0.07864         0.08690             0.07017   \n",
       "1            0.10960           0.15990         0.19740             0.12790   \n",
       "2            0.14250           0.28390         0.24140             0.10520   \n",
       "3            0.10030           0.13280         0.19800             0.10430   \n",
       "4            0.12780           0.17000         0.15780             0.08089   \n",
       "..               ...               ...             ...                 ...   \n",
       "563          0.11100           0.11590         0.24390             0.13890   \n",
       "564          0.09780           0.10340         0.14400             0.09791   \n",
       "565          0.08455           0.10230         0.09251             0.05302   \n",
       "566          0.11780           0.27700         0.35140             0.15200   \n",
       "567          0.05263           0.04362         0.00000             0.00000   \n",
       "\n",
       "     Mean-symmetry  ...  Worth-radius  Worth-texture  Worth-perimeter  \\\n",
       "0           0.1812  ...        24.990          23.41           158.80   \n",
       "1           0.2069  ...        23.570          25.53           152.50   \n",
       "2           0.2597  ...        14.910          26.50            98.87   \n",
       "3           0.1809  ...        22.540          16.67           152.20   \n",
       "4           0.2087  ...        15.470          23.75           103.40   \n",
       "..             ...  ...           ...            ...              ...   \n",
       "563         0.1726  ...        25.450          26.40           166.10   \n",
       "564         0.1752  ...        23.690          38.25           155.00   \n",
       "565         0.1590  ...        18.980          34.12           126.70   \n",
       "566         0.2397  ...        25.740          39.42           184.60   \n",
       "567         0.1587  ...         9.456          30.37            59.16   \n",
       "\n",
       "     Worth-area  Worth-smoothness  Worth-compactness  Worth-concavity  \\\n",
       "0        1956.0           0.12380            0.18660           0.2416   \n",
       "1        1709.0           0.14440            0.42450           0.4504   \n",
       "2         567.7           0.20980            0.86630           0.6869   \n",
       "3        1575.0           0.13740            0.20500           0.4000   \n",
       "4         741.6           0.17910            0.52490           0.5355   \n",
       "..          ...               ...                ...              ...   \n",
       "563      2027.0           0.14100            0.21130           0.4107   \n",
       "564      1731.0           0.11660            0.19220           0.3215   \n",
       "565      1124.0           0.11390            0.30940           0.3403   \n",
       "566      1821.0           0.16500            0.86810           0.9387   \n",
       "567       268.6           0.08996            0.06444           0.0000   \n",
       "\n",
       "     Worth-concavePoints  Worth-symmetry   Worth-fractalDimension  \n",
       "0                 0.1860           0.2750                 0.08902  \n",
       "1                 0.2430           0.3613                 0.08758  \n",
       "2                 0.2575           0.6638                 0.17300  \n",
       "3                 0.1625           0.2364                 0.07678  \n",
       "4                 0.1741           0.3985                 0.12440  \n",
       "..                   ...              ...                     ...  \n",
       "563               0.2216           0.2060                 0.07115  \n",
       "564               0.1628           0.2572                 0.06637  \n",
       "565               0.1418           0.2218                 0.07820  \n",
       "566               0.2650           0.4087                 0.12400  \n",
       "567               0.0000           0.2871                 0.07039  \n",
       "\n",
       "[568 rows x 31 columns]"
      ],
      "text/html": "<div>\n<style scoped>\n    .dataframe tbody tr th:only-of-type {\n        vertical-align: middle;\n    }\n\n    .dataframe tbody tr th {\n        vertical-align: top;\n    }\n\n    .dataframe thead th {\n        text-align: right;\n    }\n</style>\n<table border=\"1\" class=\"dataframe\">\n  <thead>\n    <tr style=\"text-align: right;\">\n      <th></th>\n      <th>Diagnosis</th>\n      <th>Mean-radius</th>\n      <th>Mean-texture</th>\n      <th>Mean-perimeter</th>\n      <th>Mean-area</th>\n      <th>Mean-smoothness</th>\n      <th>Mean-compactness</th>\n      <th>Mean-concavity</th>\n      <th>Mean-concavePoints</th>\n      <th>Mean-symmetry</th>\n      <th>...</th>\n      <th>Worth-radius</th>\n      <th>Worth-texture</th>\n      <th>Worth-perimeter</th>\n      <th>Worth-area</th>\n      <th>Worth-smoothness</th>\n      <th>Worth-compactness</th>\n      <th>Worth-concavity</th>\n      <th>Worth-concavePoints</th>\n      <th>Worth-symmetry</th>\n      <th>Worth-fractalDimension</th>\n    </tr>\n  </thead>\n  <tbody>\n    <tr>\n      <th>0</th>\n      <td>M</td>\n      <td>20.57</td>\n      <td>17.77</td>\n      <td>132.90</td>\n      <td>1326.0</td>\n      <td>0.08474</td>\n      <td>0.07864</td>\n      <td>0.08690</td>\n      <td>0.07017</td>\n      <td>0.1812</td>\n      <td>...</td>\n      <td>24.990</td>\n      <td>23.41</td>\n      <td>158.80</td>\n      <td>1956.0</td>\n      <td>0.12380</td>\n      <td>0.18660</td>\n      <td>0.2416</td>\n      <td>0.1860</td>\n      <td>0.2750</td>\n      <td>0.08902</td>\n    </tr>\n    <tr>\n      <th>1</th>\n      <td>M</td>\n      <td>19.69</td>\n      <td>21.25</td>\n      <td>130.00</td>\n      <td>1203.0</td>\n      <td>0.10960</td>\n      <td>0.15990</td>\n      <td>0.19740</td>\n      <td>0.12790</td>\n      <td>0.2069</td>\n      <td>...</td>\n      <td>23.570</td>\n      <td>25.53</td>\n      <td>152.50</td>\n      <td>1709.0</td>\n      <td>0.14440</td>\n      <td>0.42450</td>\n      <td>0.4504</td>\n      <td>0.2430</td>\n      <td>0.3613</td>\n      <td>0.08758</td>\n    </tr>\n    <tr>\n      <th>2</th>\n      <td>M</td>\n      <td>11.42</td>\n      <td>20.38</td>\n      <td>77.58</td>\n      <td>386.1</td>\n      <td>0.14250</td>\n      <td>0.28390</td>\n      <td>0.24140</td>\n      <td>0.10520</td>\n      <td>0.2597</td>\n      <td>...</td>\n      <td>14.910</td>\n      <td>26.50</td>\n      <td>98.87</td>\n      <td>567.7</td>\n      <td>0.20980</td>\n      <td>0.86630</td>\n      <td>0.6869</td>\n      <td>0.2575</td>\n      <td>0.6638</td>\n      <td>0.17300</td>\n    </tr>\n    <tr>\n      <th>3</th>\n      <td>M</td>\n      <td>20.29</td>\n      <td>14.34</td>\n      <td>135.10</td>\n      <td>1297.0</td>\n      <td>0.10030</td>\n      <td>0.13280</td>\n      <td>0.19800</td>\n      <td>0.10430</td>\n      <td>0.1809</td>\n      <td>...</td>\n      <td>22.540</td>\n      <td>16.67</td>\n      <td>152.20</td>\n      <td>1575.0</td>\n      <td>0.13740</td>\n      <td>0.20500</td>\n      <td>0.4000</td>\n      <td>0.1625</td>\n      <td>0.2364</td>\n      <td>0.07678</td>\n    </tr>\n    <tr>\n      <th>4</th>\n      <td>M</td>\n      <td>12.45</td>\n      <td>15.70</td>\n      <td>82.57</td>\n      <td>477.1</td>\n      <td>0.12780</td>\n      <td>0.17000</td>\n      <td>0.15780</td>\n      <td>0.08089</td>\n      <td>0.2087</td>\n      <td>...</td>\n      <td>15.470</td>\n      <td>23.75</td>\n      <td>103.40</td>\n      <td>741.6</td>\n      <td>0.17910</td>\n      <td>0.52490</td>\n      <td>0.5355</td>\n      <td>0.1741</td>\n      <td>0.3985</td>\n      <td>0.12440</td>\n    </tr>\n    <tr>\n      <th>...</th>\n      <td>...</td>\n      <td>...</td>\n      <td>...</td>\n      <td>...</td>\n      <td>...</td>\n      <td>...</td>\n      <td>...</td>\n      <td>...</td>\n      <td>...</td>\n      <td>...</td>\n      <td>...</td>\n      <td>...</td>\n      <td>...</td>\n      <td>...</td>\n      <td>...</td>\n      <td>...</td>\n      <td>...</td>\n      <td>...</td>\n      <td>...</td>\n      <td>...</td>\n      <td>...</td>\n    </tr>\n    <tr>\n      <th>563</th>\n      <td>M</td>\n      <td>21.56</td>\n      <td>22.39</td>\n      <td>142.00</td>\n      <td>1479.0</td>\n      <td>0.11100</td>\n      <td>0.11590</td>\n      <td>0.24390</td>\n      <td>0.13890</td>\n      <td>0.1726</td>\n      <td>...</td>\n      <td>25.450</td>\n      <td>26.40</td>\n      <td>166.10</td>\n      <td>2027.0</td>\n      <td>0.14100</td>\n      <td>0.21130</td>\n      <td>0.4107</td>\n      <td>0.2216</td>\n      <td>0.2060</td>\n      <td>0.07115</td>\n    </tr>\n    <tr>\n      <th>564</th>\n      <td>M</td>\n      <td>20.13</td>\n      <td>28.25</td>\n      <td>131.20</td>\n      <td>1261.0</td>\n      <td>0.09780</td>\n      <td>0.10340</td>\n      <td>0.14400</td>\n      <td>0.09791</td>\n      <td>0.1752</td>\n      <td>...</td>\n      <td>23.690</td>\n      <td>38.25</td>\n      <td>155.00</td>\n      <td>1731.0</td>\n      <td>0.11660</td>\n      <td>0.19220</td>\n      <td>0.3215</td>\n      <td>0.1628</td>\n      <td>0.2572</td>\n      <td>0.06637</td>\n    </tr>\n    <tr>\n      <th>565</th>\n      <td>M</td>\n      <td>16.60</td>\n      <td>28.08</td>\n      <td>108.30</td>\n      <td>858.1</td>\n      <td>0.08455</td>\n      <td>0.10230</td>\n      <td>0.09251</td>\n      <td>0.05302</td>\n      <td>0.1590</td>\n      <td>...</td>\n      <td>18.980</td>\n      <td>34.12</td>\n      <td>126.70</td>\n      <td>1124.0</td>\n      <td>0.11390</td>\n      <td>0.30940</td>\n      <td>0.3403</td>\n      <td>0.1418</td>\n      <td>0.2218</td>\n      <td>0.07820</td>\n    </tr>\n    <tr>\n      <th>566</th>\n      <td>M</td>\n      <td>20.60</td>\n      <td>29.33</td>\n      <td>140.10</td>\n      <td>1265.0</td>\n      <td>0.11780</td>\n      <td>0.27700</td>\n      <td>0.35140</td>\n      <td>0.15200</td>\n      <td>0.2397</td>\n      <td>...</td>\n      <td>25.740</td>\n      <td>39.42</td>\n      <td>184.60</td>\n      <td>1821.0</td>\n      <td>0.16500</td>\n      <td>0.86810</td>\n      <td>0.9387</td>\n      <td>0.2650</td>\n      <td>0.4087</td>\n      <td>0.12400</td>\n    </tr>\n    <tr>\n      <th>567</th>\n      <td>B</td>\n      <td>7.76</td>\n      <td>24.54</td>\n      <td>47.92</td>\n      <td>181.0</td>\n      <td>0.05263</td>\n      <td>0.04362</td>\n      <td>0.00000</td>\n      <td>0.00000</td>\n      <td>0.1587</td>\n      <td>...</td>\n      <td>9.456</td>\n      <td>30.37</td>\n      <td>59.16</td>\n      <td>268.6</td>\n      <td>0.08996</td>\n      <td>0.06444</td>\n      <td>0.0000</td>\n      <td>0.0000</td>\n      <td>0.2871</td>\n      <td>0.07039</td>\n    </tr>\n  </tbody>\n</table>\n<p>568 rows × 31 columns</p>\n</div>"
     },
     "metadata": {},
     "execution_count": 3
    }
   ],
   "source": [
    "#Hapus Id\n",
    "clearId = df.drop(['ID'], axis=1)\n",
    "clearId"
   ]
  },
  {
   "cell_type": "code",
   "execution_count": 4,
   "metadata": {},
   "outputs": [
    {
     "output_type": "execute_result",
     "data": {
      "text/plain": [
       "     Mean-radius  Mean-texture  Mean-perimeter  Mean-area  Mean-smoothness  \\\n",
       "0          20.57         17.77          132.90     1326.0          0.08474   \n",
       "1          19.69         21.25          130.00     1203.0          0.10960   \n",
       "2          11.42         20.38           77.58      386.1          0.14250   \n",
       "3          20.29         14.34          135.10     1297.0          0.10030   \n",
       "4          12.45         15.70           82.57      477.1          0.12780   \n",
       "..           ...           ...             ...        ...              ...   \n",
       "563        21.56         22.39          142.00     1479.0          0.11100   \n",
       "564        20.13         28.25          131.20     1261.0          0.09780   \n",
       "565        16.60         28.08          108.30      858.1          0.08455   \n",
       "566        20.60         29.33          140.10     1265.0          0.11780   \n",
       "567         7.76         24.54           47.92      181.0          0.05263   \n",
       "\n",
       "     Mean-compactness  Mean-concavity  Mean-concavePoints  Mean-symmetry  \\\n",
       "0             0.07864         0.08690             0.07017         0.1812   \n",
       "1             0.15990         0.19740             0.12790         0.2069   \n",
       "2             0.28390         0.24140             0.10520         0.2597   \n",
       "3             0.13280         0.19800             0.10430         0.1809   \n",
       "4             0.17000         0.15780             0.08089         0.2087   \n",
       "..                ...             ...                 ...            ...   \n",
       "563           0.11590         0.24390             0.13890         0.1726   \n",
       "564           0.10340         0.14400             0.09791         0.1752   \n",
       "565           0.10230         0.09251             0.05302         0.1590   \n",
       "566           0.27700         0.35140             0.15200         0.2397   \n",
       "567           0.04362         0.00000             0.00000         0.1587   \n",
       "\n",
       "     Mean-fractalDimension  ...  Worth-texture  Worth-perimeter  Worth-area  \\\n",
       "0                  0.05667  ...          23.41           158.80      1956.0   \n",
       "1                  0.05999  ...          25.53           152.50      1709.0   \n",
       "2                  0.09744  ...          26.50            98.87       567.7   \n",
       "3                  0.05883  ...          16.67           152.20      1575.0   \n",
       "4                  0.07613  ...          23.75           103.40       741.6   \n",
       "..                     ...  ...            ...              ...         ...   \n",
       "563                0.05623  ...          26.40           166.10      2027.0   \n",
       "564                0.05533  ...          38.25           155.00      1731.0   \n",
       "565                0.05648  ...          34.12           126.70      1124.0   \n",
       "566                0.07016  ...          39.42           184.60      1821.0   \n",
       "567                0.05884  ...          30.37            59.16       268.6   \n",
       "\n",
       "     Worth-smoothness  Worth-compactness  Worth-concavity  \\\n",
       "0             0.12380            0.18660           0.2416   \n",
       "1             0.14440            0.42450           0.4504   \n",
       "2             0.20980            0.86630           0.6869   \n",
       "3             0.13740            0.20500           0.4000   \n",
       "4             0.17910            0.52490           0.5355   \n",
       "..                ...                ...              ...   \n",
       "563           0.14100            0.21130           0.4107   \n",
       "564           0.11660            0.19220           0.3215   \n",
       "565           0.11390            0.30940           0.3403   \n",
       "566           0.16500            0.86810           0.9387   \n",
       "567           0.08996            0.06444           0.0000   \n",
       "\n",
       "     Worth-concavePoints  Worth-symmetry   Worth-fractalDimension  Diagnosis  \n",
       "0                 0.1860           0.2750                 0.08902          M  \n",
       "1                 0.2430           0.3613                 0.08758          M  \n",
       "2                 0.2575           0.6638                 0.17300          M  \n",
       "3                 0.1625           0.2364                 0.07678          M  \n",
       "4                 0.1741           0.3985                 0.12440          M  \n",
       "..                   ...              ...                     ...        ...  \n",
       "563               0.2216           0.2060                 0.07115          M  \n",
       "564               0.1628           0.2572                 0.06637          M  \n",
       "565               0.1418           0.2218                 0.07820          M  \n",
       "566               0.2650           0.4087                 0.12400          M  \n",
       "567               0.0000           0.2871                 0.07039          B  \n",
       "\n",
       "[568 rows x 31 columns]"
      ],
      "text/html": "<div>\n<style scoped>\n    .dataframe tbody tr th:only-of-type {\n        vertical-align: middle;\n    }\n\n    .dataframe tbody tr th {\n        vertical-align: top;\n    }\n\n    .dataframe thead th {\n        text-align: right;\n    }\n</style>\n<table border=\"1\" class=\"dataframe\">\n  <thead>\n    <tr style=\"text-align: right;\">\n      <th></th>\n      <th>Mean-radius</th>\n      <th>Mean-texture</th>\n      <th>Mean-perimeter</th>\n      <th>Mean-area</th>\n      <th>Mean-smoothness</th>\n      <th>Mean-compactness</th>\n      <th>Mean-concavity</th>\n      <th>Mean-concavePoints</th>\n      <th>Mean-symmetry</th>\n      <th>Mean-fractalDimension</th>\n      <th>...</th>\n      <th>Worth-texture</th>\n      <th>Worth-perimeter</th>\n      <th>Worth-area</th>\n      <th>Worth-smoothness</th>\n      <th>Worth-compactness</th>\n      <th>Worth-concavity</th>\n      <th>Worth-concavePoints</th>\n      <th>Worth-symmetry</th>\n      <th>Worth-fractalDimension</th>\n      <th>Diagnosis</th>\n    </tr>\n  </thead>\n  <tbody>\n    <tr>\n      <th>0</th>\n      <td>20.57</td>\n      <td>17.77</td>\n      <td>132.90</td>\n      <td>1326.0</td>\n      <td>0.08474</td>\n      <td>0.07864</td>\n      <td>0.08690</td>\n      <td>0.07017</td>\n      <td>0.1812</td>\n      <td>0.05667</td>\n      <td>...</td>\n      <td>23.41</td>\n      <td>158.80</td>\n      <td>1956.0</td>\n      <td>0.12380</td>\n      <td>0.18660</td>\n      <td>0.2416</td>\n      <td>0.1860</td>\n      <td>0.2750</td>\n      <td>0.08902</td>\n      <td>M</td>\n    </tr>\n    <tr>\n      <th>1</th>\n      <td>19.69</td>\n      <td>21.25</td>\n      <td>130.00</td>\n      <td>1203.0</td>\n      <td>0.10960</td>\n      <td>0.15990</td>\n      <td>0.19740</td>\n      <td>0.12790</td>\n      <td>0.2069</td>\n      <td>0.05999</td>\n      <td>...</td>\n      <td>25.53</td>\n      <td>152.50</td>\n      <td>1709.0</td>\n      <td>0.14440</td>\n      <td>0.42450</td>\n      <td>0.4504</td>\n      <td>0.2430</td>\n      <td>0.3613</td>\n      <td>0.08758</td>\n      <td>M</td>\n    </tr>\n    <tr>\n      <th>2</th>\n      <td>11.42</td>\n      <td>20.38</td>\n      <td>77.58</td>\n      <td>386.1</td>\n      <td>0.14250</td>\n      <td>0.28390</td>\n      <td>0.24140</td>\n      <td>0.10520</td>\n      <td>0.2597</td>\n      <td>0.09744</td>\n      <td>...</td>\n      <td>26.50</td>\n      <td>98.87</td>\n      <td>567.7</td>\n      <td>0.20980</td>\n      <td>0.86630</td>\n      <td>0.6869</td>\n      <td>0.2575</td>\n      <td>0.6638</td>\n      <td>0.17300</td>\n      <td>M</td>\n    </tr>\n    <tr>\n      <th>3</th>\n      <td>20.29</td>\n      <td>14.34</td>\n      <td>135.10</td>\n      <td>1297.0</td>\n      <td>0.10030</td>\n      <td>0.13280</td>\n      <td>0.19800</td>\n      <td>0.10430</td>\n      <td>0.1809</td>\n      <td>0.05883</td>\n      <td>...</td>\n      <td>16.67</td>\n      <td>152.20</td>\n      <td>1575.0</td>\n      <td>0.13740</td>\n      <td>0.20500</td>\n      <td>0.4000</td>\n      <td>0.1625</td>\n      <td>0.2364</td>\n      <td>0.07678</td>\n      <td>M</td>\n    </tr>\n    <tr>\n      <th>4</th>\n      <td>12.45</td>\n      <td>15.70</td>\n      <td>82.57</td>\n      <td>477.1</td>\n      <td>0.12780</td>\n      <td>0.17000</td>\n      <td>0.15780</td>\n      <td>0.08089</td>\n      <td>0.2087</td>\n      <td>0.07613</td>\n      <td>...</td>\n      <td>23.75</td>\n      <td>103.40</td>\n      <td>741.6</td>\n      <td>0.17910</td>\n      <td>0.52490</td>\n      <td>0.5355</td>\n      <td>0.1741</td>\n      <td>0.3985</td>\n      <td>0.12440</td>\n      <td>M</td>\n    </tr>\n    <tr>\n      <th>...</th>\n      <td>...</td>\n      <td>...</td>\n      <td>...</td>\n      <td>...</td>\n      <td>...</td>\n      <td>...</td>\n      <td>...</td>\n      <td>...</td>\n      <td>...</td>\n      <td>...</td>\n      <td>...</td>\n      <td>...</td>\n      <td>...</td>\n      <td>...</td>\n      <td>...</td>\n      <td>...</td>\n      <td>...</td>\n      <td>...</td>\n      <td>...</td>\n      <td>...</td>\n      <td>...</td>\n    </tr>\n    <tr>\n      <th>563</th>\n      <td>21.56</td>\n      <td>22.39</td>\n      <td>142.00</td>\n      <td>1479.0</td>\n      <td>0.11100</td>\n      <td>0.11590</td>\n      <td>0.24390</td>\n      <td>0.13890</td>\n      <td>0.1726</td>\n      <td>0.05623</td>\n      <td>...</td>\n      <td>26.40</td>\n      <td>166.10</td>\n      <td>2027.0</td>\n      <td>0.14100</td>\n      <td>0.21130</td>\n      <td>0.4107</td>\n      <td>0.2216</td>\n      <td>0.2060</td>\n      <td>0.07115</td>\n      <td>M</td>\n    </tr>\n    <tr>\n      <th>564</th>\n      <td>20.13</td>\n      <td>28.25</td>\n      <td>131.20</td>\n      <td>1261.0</td>\n      <td>0.09780</td>\n      <td>0.10340</td>\n      <td>0.14400</td>\n      <td>0.09791</td>\n      <td>0.1752</td>\n      <td>0.05533</td>\n      <td>...</td>\n      <td>38.25</td>\n      <td>155.00</td>\n      <td>1731.0</td>\n      <td>0.11660</td>\n      <td>0.19220</td>\n      <td>0.3215</td>\n      <td>0.1628</td>\n      <td>0.2572</td>\n      <td>0.06637</td>\n      <td>M</td>\n    </tr>\n    <tr>\n      <th>565</th>\n      <td>16.60</td>\n      <td>28.08</td>\n      <td>108.30</td>\n      <td>858.1</td>\n      <td>0.08455</td>\n      <td>0.10230</td>\n      <td>0.09251</td>\n      <td>0.05302</td>\n      <td>0.1590</td>\n      <td>0.05648</td>\n      <td>...</td>\n      <td>34.12</td>\n      <td>126.70</td>\n      <td>1124.0</td>\n      <td>0.11390</td>\n      <td>0.30940</td>\n      <td>0.3403</td>\n      <td>0.1418</td>\n      <td>0.2218</td>\n      <td>0.07820</td>\n      <td>M</td>\n    </tr>\n    <tr>\n      <th>566</th>\n      <td>20.60</td>\n      <td>29.33</td>\n      <td>140.10</td>\n      <td>1265.0</td>\n      <td>0.11780</td>\n      <td>0.27700</td>\n      <td>0.35140</td>\n      <td>0.15200</td>\n      <td>0.2397</td>\n      <td>0.07016</td>\n      <td>...</td>\n      <td>39.42</td>\n      <td>184.60</td>\n      <td>1821.0</td>\n      <td>0.16500</td>\n      <td>0.86810</td>\n      <td>0.9387</td>\n      <td>0.2650</td>\n      <td>0.4087</td>\n      <td>0.12400</td>\n      <td>M</td>\n    </tr>\n    <tr>\n      <th>567</th>\n      <td>7.76</td>\n      <td>24.54</td>\n      <td>47.92</td>\n      <td>181.0</td>\n      <td>0.05263</td>\n      <td>0.04362</td>\n      <td>0.00000</td>\n      <td>0.00000</td>\n      <td>0.1587</td>\n      <td>0.05884</td>\n      <td>...</td>\n      <td>30.37</td>\n      <td>59.16</td>\n      <td>268.6</td>\n      <td>0.08996</td>\n      <td>0.06444</td>\n      <td>0.0000</td>\n      <td>0.0000</td>\n      <td>0.2871</td>\n      <td>0.07039</td>\n      <td>B</td>\n    </tr>\n  </tbody>\n</table>\n<p>568 rows × 31 columns</p>\n</div>"
     },
     "metadata": {},
     "execution_count": 4
    }
   ],
   "source": [
    "# move Diagnosis M dan B menjadi di akhir end\n",
    "cols = list(clearId.columns) \n",
    "cols = cols[1:31]+ cols[:1]\n",
    "\n",
    "endDiagnosis = clearId[cols]\n",
    "endDiagnosis\n"
   ]
  },
  {
   "cell_type": "code",
   "execution_count": 5,
   "metadata": {},
   "outputs": [],
   "source": [
    "# Cetak to csv\n",
    "endDiagnosis.to_csv(\"WBDC.csv\", index=False)"
   ]
  },
  {
   "cell_type": "code",
   "execution_count": null,
   "metadata": {},
   "outputs": [],
   "source": []
  }
 ]
}